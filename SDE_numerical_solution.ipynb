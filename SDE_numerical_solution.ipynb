{
 "cells": [
  {
   "cell_type": "code",
   "execution_count": 2,
   "metadata": {},
   "outputs": [],
   "source": [
    "import numpy as np\n",
    "import matplotlib.pyplot as plt"
   ]
  },
  {
   "cell_type": "code",
   "execution_count": 3,
   "metadata": {},
   "outputs": [],
   "source": [
    "dt = 0.01\n",
    "N = 100\n",
    "D = 1.0\n",
    "\n",
    "sigma = np.sqrt(2*D*dt)\n",
    "\n",
    "Y = np.random.randn(N-1)*sigma\n",
    "X = np.zeros(N)\n",
    "X[1:] = np.cumsum(Y)"
   ]
  },
  {
   "cell_type": "markdown",
   "metadata": {},
   "source": [
    "X is our Brownian Motion so can use that in our Ornstein-Uhlenbeck process."
   ]
  },
  {
   "cell_type": "code",
   "execution_count": null,
   "metadata": {},
   "outputs": [],
   "source": []
  }
 ],
 "metadata": {
  "kernelspec": {
   "display_name": "Python 3.10.4 ('UROP')",
   "language": "python",
   "name": "python3"
  },
  "language_info": {
   "codemirror_mode": {
    "name": "ipython",
    "version": 3
   },
   "file_extension": ".py",
   "mimetype": "text/x-python",
   "name": "python",
   "nbconvert_exporter": "python",
   "pygments_lexer": "ipython3",
   "version": "3.10.4"
  },
  "orig_nbformat": 4,
  "vscode": {
   "interpreter": {
    "hash": "39085ef8b9209b9215e1cebe2bda505337ef4cfebb6a254d88e43e1b211c0531"
   }
  }
 },
 "nbformat": 4,
 "nbformat_minor": 2
}
